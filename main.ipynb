{
 "cells": [
  {
   "cell_type": "markdown",
   "metadata": {},
   "source": [
    "# Perceptive Space Take Home Assigment"
   ]
  },
  {
   "cell_type": "markdown",
   "metadata": {},
   "source": [
    "## Imports"
   ]
  },
  {
   "cell_type": "code",
   "execution_count": 1,
   "metadata": {},
   "outputs": [],
   "source": [
    "import numpy as np\n",
    "import matplotlib.pyplot as plt\n",
    "import astrotools as at\n",
    "import scipy as sc\n",
    "import pandas as pd\n",
    "import mplcursors\n",
    "from mpl_toolkits.mplot3d import Axes3D\n"
   ]
  },
  {
   "cell_type": "markdown",
   "metadata": {},
   "source": [
    "## Defining Constants and Central Body"
   ]
  },
  {
   "cell_type": "code",
   "execution_count": 2,
   "metadata": {},
   "outputs": [],
   "source": [
    "earth = at.MyWGS84(\"km\") # Earth with units based on km\n",
    "c = 299792458 * 1e-3 # speed of light in km/s"
   ]
  },
  {
   "cell_type": "markdown",
   "metadata": {},
   "source": [
    "## Import and Sort GPS Measurements"
   ]
  },
  {
   "cell_type": "code",
   "execution_count": 3,
   "metadata": {},
   "outputs": [],
   "source": [
    "# import data\n",
    "df = pd.read_csv('GPS meas.csv')\n",
    "df['time'] = pd.to_datetime(df['time'])\n",
    "\n",
    "# sort by x, y, z\n",
    "xyz_order = {'x': 1, 'y': 2, 'z': 3}\n",
    "df['xyz_order'] = df['ECEF'].map(xyz_order)\n",
    "df = df.sort_values(by=['time', 'xyz_order'])\n",
    "df = df.drop(columns=['xyz_order'])\n",
    "\n",
    "# extract x, y, z positions and velocities\n",
    "sat = {}\n",
    "sat['r_itrf'] = np.array([df[df['ECEF'] == 'x']['position'].values,\n",
    "                          df[df['ECEF'] == 'y']['position'].values,\n",
    "                          df[df['ECEF'] == 'z']['position'].values])\n",
    "sat['v_itrf'] = np.array([df[df['ECEF'] == 'x']['velocity'].values,\n",
    "                          df[df['ECEF'] == 'y']['velocity'].values,\n",
    "                          df[df['ECEF'] == 'z']['velocity'].values]) / 1e4\n",
    "clock_bias = np.array(df['clock'].values[0:-1:3])\n",
    "date = df[df['ECEF'] == 'x']['time']"
   ]
  },
  {
   "cell_type": "markdown",
   "metadata": {},
   "source": [
    "## Outlier Cleanup"
   ]
  },
  {
   "cell_type": "code",
   "execution_count": 4,
   "metadata": {},
   "outputs": [],
   "source": [
    "min_leo = earth.SemimajorAxis + 150 # minimum LEO radius\n",
    "max_geo = earth.SemimajorAxis + 35786 + 300 # maximum geo radius\n",
    "\n",
    "sat['r_mag'] = np.linalg.norm(sat['r_itrf'], axis=0)\n",
    "keep_ind = (sat['r_mag'] >= min_leo) & (sat['r_mag'] <= max_geo)\n",
    "sat['r_itrf'] = sat['r_itrf'][:, keep_ind]\n",
    "sat['v_itrf'] = sat['v_itrf'][:, keep_ind]\n",
    "sat['r_mag'] = sat['r_mag'][keep_ind]\n",
    "date = date[keep_ind]\n",
    "clock_bias = clock_bias[keep_ind] * 1e-6"
   ]
  },
  {
   "cell_type": "markdown",
   "metadata": {},
   "source": [
    "## Date Extraction"
   ]
  },
  {
   "cell_type": "code",
   "execution_count": 5,
   "metadata": {},
   "outputs": [],
   "source": [
    "# Extract year, month, and day with fractional time\n",
    "year = date.dt.year.to_numpy()\n",
    "month = date.dt.month.to_numpy()\n",
    "day = date.dt.day.to_numpy()\n",
    "frac = ((date.dt.hour + date.dt.minute / 60 + date.dt.second / 3600) / 24).to_numpy()\n",
    "\n",
    "CalUTtoJD_vec = np.vectorize(at.CalUTtoJD)\n",
    "JD = CalUTtoJD_vec(year,month,day,frac*24)\n",
    "GMST, _ = at.JDtoGMST(JD,0)\n",
    "N = len(JD)\n",
    "dt = np.diff(JD) * 86400\n",
    "day_skip = dt > dt[0] * 5"
   ]
  },
  {
   "cell_type": "markdown",
   "metadata": {},
   "source": [
    "## Clock Bias Correction"
   ]
  },
  {
   "cell_type": "code",
   "execution_count": null,
   "metadata": {},
   "outputs": [],
   "source": [
    "p_corr = c * clock_bias\n",
    "clock_drift = np.diff(clock_bias) / dt\n",
    "for i in range(N):\n",
    "    sat['r_itrf'][:,i] = (np.linalg.norm(sat['r_itrf'][:,i]) - (c * clock_bias[i])) * at.normalize(sat['r_itrf'][:,i])\n",
    "    if i > 0:\n",
    "        sat['v_itrf'][:,i] = sat['v_itrf'][:,i] - c * clock_drift[i-1] * at.normalize(sat['r_itrf'][:,i])\n"
   ]
  },
  {
   "cell_type": "markdown",
   "metadata": {},
   "source": [
    "## Transformation from ECEF to ECI\n",
    "Here, we are assuming the ECEF frame being used is the ITRF frame and the assumed ECI frame is J2000"
   ]
  },
  {
   "cell_type": "code",
   "execution_count": null,
   "metadata": {},
   "outputs": [],
   "source": [
    "EOP2 = at.parseEOPFile(\"./astrotools/EOP2long.txt\") # inport Earth Orientation Parameters for polar motion rotation\n",
    "sat['r_j2000'] = np.zeros_like(sat['r_itrf'])\n",
    "sat['v_j2000'] = np.zeros_like(sat['v_itrf'])\n",
    "for i in range(len(sat['r_itrf'][0])):\n",
    "    R_earthrot = at.rot(GMST[i], 3, \"degrees\").T\n",
    "    R_nutation = at.RotNutation(JD[i], \"UT1\").T\n",
    "    R_precession = at.RotPrecession(JD[i], \"UT1\").T\n",
    "    R_polarmotion = at.RotPolarMotion(JD[i], EOP2).T\n",
    "    full_rot = R_precession @ R_nutation @ R_earthrot @ R_polarmotion\n",
    "    sat['r_j2000'][:,i] = full_rot @ sat['r_itrf'][:,i]\n",
    "    sat['v_j2000'][:,i] = full_rot @ sat['v_itrf'][:,i]\n"
   ]
  },
  {
   "cell_type": "markdown",
   "metadata": {},
   "source": [
    "## Simulation and Filtering"
   ]
  },
  {
   "cell_type": "markdown",
   "metadata": {},
   "source": [
    "### Extended Kalman Filter Parameters"
   ]
  },
  {
   "cell_type": "code",
   "execution_count": null,
   "metadata": {},
   "outputs": [],
   "source": [
    "# Initialize process noise covariance matrix (Q)\n",
    "q1 = 1e-5\n",
    "q2 = 1e-7\n",
    "Q = np.diag([q1, q1, q1, q2, q2, q2])\n",
    "\n",
    "# Initialize measurement noise covariance matrix (R)\n",
    "# assume 10 meter accuracy in gps\n",
    "r1 = (10. * 1e-3)**2\n",
    "# r1 = 1e-4\n",
    "# assume .5 meter/sec accuracy in gps\n",
    "r2 = (0.1 * 1e-3)**2\n",
    "# r2 = 1e-8\n",
    "R = np.diag([r1, r1, r1, r2, r2, r2])\n",
    "\n",
    "# Initialize state covariance matrix (P)\n",
    "# P_est = np.eye(6)\n",
    "p_var = 1\n",
    "v_var = 0.1\n",
    "P_est = np.diag([p_var, p_var, p_var, v_var, v_var, v_var])"
   ]
  },
  {
   "cell_type": "markdown",
   "metadata": {},
   "source": [
    "### Vector Initialization and Force Model Paramaters"
   ]
  },
  {
   "cell_type": "code",
   "execution_count": null,
   "metadata": {},
   "outputs": [],
   "source": [
    "## Initialize estimation array\n",
    "x_est = np.zeros([6, N]);  \n",
    "x_est[:, 0] = np.concatenate((sat['r_j2000'][:,0], sat['v_j2000'][:,0]))\n",
    "dt_min = np.min(dt)\n",
    "\n",
    "\n",
    "# gravity parameters\n",
    "max_degree = 4\n",
    "earth.read_egm('./astrotools/EGM2008_to360.txt', max_degree)\n",
    "# aerodynamic parameters\n",
    "Cd = 2.2\n",
    "sarea = 10 / (1e3)**2 # surface area in km^2"
   ]
  },
  {
   "cell_type": "markdown",
   "metadata": {},
   "source": [
    "### EKF Loop"
   ]
  },
  {
   "cell_type": "code",
   "execution_count": null,
   "metadata": {},
   "outputs": [],
   "source": [
    "for k in range(N-1):\n",
    "    # Prediction step\n",
    "    r = np.linalg.norm(x_est[0:3, k])  # Compute the magnitude of the position vector\n",
    "\n",
    "    f = lambda t,x: at.orbit_ode(t, x, \n",
    "                                 earth.mu, gravity=\"J\", \n",
    "                                 max_degree=max_degree, Re=earth.SemimajorAxis, \n",
    "                                 C=earth.C, S=earth.S, GMST=GMST[k], J=earth.J,\n",
    "                                 atmosphere=\"simple\",Cd=Cd,sarea=sarea, omega=earth.omega)\n",
    "\n",
    "    if dt[k] > dt_min * 1e1:\n",
    "        ns = 1500\n",
    "    elif dt[k] > dt_min * 3:\n",
    "        ns = 36\n",
    "    else:\n",
    "        ns = 18\n",
    "    _, x_pred = at.rk4_substeps(f, 0, x_est[:, k], dt[k], num_substeps=ns)\n",
    "\n",
    "    # Jacobian (F_k) for state transition, initialization\n",
    "    par2body = np.eye(3) * (-earth.mu / r**3)\n",
    "    # Loop to modify the par2body matrix\n",
    "    for i in range(3):\n",
    "        for j in range(3):\n",
    "            par2body[i, j] += 3 * earth.mu / r**5 * x_est[i, k] * x_est[j, k]\n",
    "\n",
    "    # State transition Jacobian F\n",
    "    F = dt[k] * np.block([[np.zeros((3, 3)), np.eye(3)], [par2body, np.zeros((3, 3))]])\n",
    "\n",
    "    # Covariance prediction\n",
    "    P_pred = F @ P_est @ F.T + Q\n",
    "\n",
    "    # Kalman Gain\n",
    "    H = np.eye(6)  # Measurement matrix\n",
    "    S = H @ P_pred @ H.T + R  # Innovation covariance\n",
    "    K = P_pred @ H.T @ np.linalg.inv(S)  # Kalman gain\n",
    "\n",
    "    # Measurement update\n",
    "    z_k = np.concatenate((sat['r_j2000'][:,k+1], sat['v_j2000'][:,k+1]))    \n",
    "    innovation = z_k - H @ x_pred\n",
    "\n",
    "    x_est[:,k+1] = x_pred + K @ innovation # Update state estimate\n",
    "    P_est = (np.eye(6) - K @ H) @ P_pred # Covariance update"
   ]
  },
  {
   "cell_type": "markdown",
   "metadata": {},
   "source": [
    "## Plotting Orbit (3D)"
   ]
  },
  {
   "cell_type": "code",
   "execution_count": null,
   "metadata": {},
   "outputs": [],
   "source": [
    "ax = plt.figure().add_subplot(projection=\"3d\")\n",
    "ax.plot(sat['r_j2000'][0],sat['r_j2000'][1],sat['r_j2000'][2],label=\"SV Trajectory\",marker=\"*\",linestyle='None')\n",
    "# ax = at.plotsphere(ax,earth.SemimajorAxis)\n",
    "ax.set_xlabel(\"x [km]\")\n",
    "ax.set_ylabel(\"y [km]\")\n",
    "ax.set_zlabel(\"z [km]\")\n",
    "lim = 2*earth.SemimajorAxis\n",
    "ax.set_xlim([-lim,lim])\n",
    "ax.set_ylim([-lim,lim])\n",
    "ax.set_zlim([-lim,lim])\n",
    "ax.set_aspect('equal')\n",
    "ax.plot(x_est[0,:],x_est[1,:],x_est[2,:],label=\"Estimated Trajectory\",marker=\"o\",linestyle=\"None\")"
   ]
  },
  {
   "cell_type": "markdown",
   "metadata": {},
   "source": []
  }
 ],
 "metadata": {
  "kernelspec": {
   "display_name": "Python 3",
   "language": "python",
   "name": "python3"
  },
  "language_info": {
   "codemirror_mode": {
    "name": "ipython",
    "version": 3
   },
   "file_extension": ".py",
   "mimetype": "text/x-python",
   "name": "python",
   "nbconvert_exporter": "python",
   "pygments_lexer": "ipython3",
   "version": "3.11.6"
  }
 },
 "nbformat": 4,
 "nbformat_minor": 2
}
