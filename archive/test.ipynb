{
 "cells": [
  {
   "cell_type": "code",
   "execution_count": 8,
   "metadata": {},
   "outputs": [
    {
     "name": "stdout",
     "output_type": "stream",
     "text": [
      "[-0.00624309 -0.00110086 -0.00366891]\n",
      "0.007324548984747508\n"
     ]
    }
   ],
   "source": [
    "import numpy as np\n",
    "import matplotlib.pyplot as plt\n",
    "import astrotools as at\n",
    "import scipy as sc\n",
    "import pandas as pd\n",
    "import mplcursors\n",
    "from mpl_toolkits.mplot3d import Axes3D\n",
    "\n",
    "\n",
    "earth = at.MyWGS84(\"km\") # Earth with units based on km\n",
    "max_degree = 10\n",
    "earth.read_egm('./astrotools/EGM2008_to360.txt', max_degree)\n",
    "\n",
    "r = earth.SemimajorAxis + 1000\n",
    "phi = np.deg2rad(30)\n",
    "lam = np.deg2rad(10)\n",
    "x = r * np.array([np.cos(phi) * np.cos(lam),\n",
    "                  np.cos(phi) * np.sin(lam),\n",
    "                  np.sin(phi)])\n",
    "\n",
    "g = at.gravity_sphharm(x, earth.SemimajorAxis, earth.mu, max_degree, earth.C, earth.S)\n",
    "print(g)\n",
    "print(np.linalg.norm(g))"
   ]
  }
 ],
 "metadata": {
  "kernelspec": {
   "display_name": "Python 3",
   "language": "python",
   "name": "python3"
  },
  "language_info": {
   "codemirror_mode": {
    "name": "ipython",
    "version": 3
   },
   "file_extension": ".py",
   "mimetype": "text/x-python",
   "name": "python",
   "nbconvert_exporter": "python",
   "pygments_lexer": "ipython3",
   "version": "3.11.6"
  }
 },
 "nbformat": 4,
 "nbformat_minor": 2
}
